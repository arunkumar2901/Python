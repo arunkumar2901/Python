{
 "cells": [
  {
   "cell_type": "code",
   "execution_count": 1,
   "id": "10b5d8ec-ebad-44d1-b0fb-7f654b25099f",
   "metadata": {},
   "outputs": [],
   "source": [
    "#Create a function using list"
   ]
  },
  {
   "cell_type": "code",
   "execution_count": 16,
   "id": "9df4b5dc-ed11-42a7-985b-4dd51b38bcc9",
   "metadata": {},
   "outputs": [],
   "source": [
    "def SubfiledsInAI():\n",
    "    list=[\"Machine Learning\",\"Neural Networks\",\"Vision\",\"Robotics\",\"Speech Processing\",\"Natural Language Processing\"]\n",
    "    print(\"Sub-fields in AI are:\")\n",
    "    for a in list:\n",
    "        print(a)"
   ]
  },
  {
   "cell_type": "code",
   "execution_count": 17,
   "id": "f98bf419-d013-4624-bd39-07bf04a5e8b8",
   "metadata": {},
   "outputs": [
    {
     "name": "stdout",
     "output_type": "stream",
     "text": [
      "Sub-fields in AI are:\n",
      "Machine Learning\n",
      "Neural Networks\n",
      "Vision\n",
      "Robotics\n",
      "Speech Processing\n",
      "Natural Language Processing\n"
     ]
    }
   ],
   "source": [
    "SubfiledsInAI()"
   ]
  },
  {
   "cell_type": "code",
   "execution_count": 18,
   "id": "a93e3694-25a5-473a-9760-ff48cf541e6f",
   "metadata": {},
   "outputs": [],
   "source": [
    "#Create a fuction tht checks given number is even or add"
   ]
  },
  {
   "cell_type": "code",
   "execution_count": 22,
   "id": "c8deb178-5157-44ab-8608-37573b1b4476",
   "metadata": {},
   "outputs": [],
   "source": [
    "def OddEven():\n",
    "    Num=int(input(\"Enter a Number: \"))\n",
    "    if ((Num%2)==0):\n",
    "        print(Num, \"is Even Number\")\n",
    "    else:\n",
    "        print(Num, \"is Odd Number\")"
   ]
  },
  {
   "cell_type": "code",
   "execution_count": 23,
   "id": "1dbb5231-8a38-4e4a-bff5-4bd0bc8172f5",
   "metadata": {},
   "outputs": [
    {
     "name": "stdin",
     "output_type": "stream",
     "text": [
      "Enter a Number:  52452\n"
     ]
    },
    {
     "name": "stdout",
     "output_type": "stream",
     "text": [
      "52452 is Even Number\n"
     ]
    }
   ],
   "source": [
    "OddEven()"
   ]
  },
  {
   "cell_type": "code",
   "execution_count": 27,
   "id": "6de12a0c-bead-419e-8190-c3bfd4125752",
   "metadata": {},
   "outputs": [],
   "source": [
    "def ElegibilityForMarriage():\n",
    "    Gender=input(\"Your Gender:\")\n",
    "    Age=int(input(\"Your Age:\"))\n",
    "    if ((Gender==\"Male\")>=21):\n",
    "        print(\"Eligible\")\n",
    "    else:\n",
    "        print(\"Not Eligible\")"
   ]
  },
  {
   "cell_type": "code",
   "execution_count": 28,
   "id": "6116a315-ae6f-422e-b9ef-ab454054b00a",
   "metadata": {},
   "outputs": [
    {
     "name": "stdin",
     "output_type": "stream",
     "text": [
      "Your Gender: Male\n",
      "Your Age: 20\n"
     ]
    },
    {
     "name": "stdout",
     "output_type": "stream",
     "text": [
      "Not Eligible\n"
     ]
    }
   ],
   "source": [
    "ElegibilityForMarriage()"
   ]
  },
  {
   "cell_type": "code",
   "execution_count": 34,
   "id": "e9875769-b08f-4f0f-a904-3a97700f2030",
   "metadata": {},
   "outputs": [],
   "source": [
    "def FindPercent():\n",
    "    Sub1=int(input(\"Subject1= \"))\n",
    "    Sub2=int(input(\"Subject2= \"))\n",
    "    Sub3=int(input(\"Subject3= \"))\n",
    "    Sub4=int(input(\"Subject4= \"))\n",
    "    Sub5=int(input(\"Subject5= \"))\n",
    "    print(\"Total :\", Sub1+Sub2+Sub3+Sub4+Sub5)\n",
    "    print(\"Percentage: \", ((Sub1+Sub2+Sub3+Sub4+Sub5)/5))"
   ]
  },
  {
   "cell_type": "code",
   "execution_count": 35,
   "id": "2fc6f93e-af50-4393-8c03-5ec352720d3d",
   "metadata": {},
   "outputs": [
    {
     "name": "stdin",
     "output_type": "stream",
     "text": [
      "Subject1=  98\n",
      "Subject2=  87\n",
      "Subject3=  95\n",
      "Subject4=  95\n",
      "Subject5=  93\n"
     ]
    },
    {
     "name": "stdout",
     "output_type": "stream",
     "text": [
      "Total : 468\n",
      "Percentage:  93.6\n"
     ]
    }
   ],
   "source": [
    "FindPercent()"
   ]
  },
  {
   "cell_type": "code",
   "execution_count": 37,
   "id": "c89791cc-ea99-4d4a-8b79-eb985c11cd34",
   "metadata": {},
   "outputs": [],
   "source": [
    "def triangle():\n",
    "    H=int(input(\"Height:\"))\n",
    "    B=int(input(\"Breadth:\"))\n",
    "    print(\"Area of Triangle: \", (H*B)/2)\n",
    "    H1=int(input(\"Height1:\"))\n",
    "    H2=int(input(\"Height2:\"))\n",
    "    B1=int(input(\"Breadth:\"))\n",
    "    print(\"Perimeter of Triangle: \", H1+H2+B1)"
   ]
  },
  {
   "cell_type": "code",
   "execution_count": 38,
   "id": "1f6de954-92ed-45ab-9d97-429f676b0a8f",
   "metadata": {},
   "outputs": [
    {
     "name": "stdin",
     "output_type": "stream",
     "text": [
      "Height: 32\n",
      "Breadth: 34\n"
     ]
    },
    {
     "name": "stdout",
     "output_type": "stream",
     "text": [
      "Area of Triangle:  544.0\n"
     ]
    },
    {
     "name": "stdin",
     "output_type": "stream",
     "text": [
      "Height1: 2\n",
      "Height2: 4\n",
      "Breadth: 4\n"
     ]
    },
    {
     "name": "stdout",
     "output_type": "stream",
     "text": [
      "Perimeter of Triangle:  10\n"
     ]
    }
   ],
   "source": [
    "triangle()"
   ]
  },
  {
   "cell_type": "code",
   "execution_count": null,
   "id": "b350f313-e452-42c5-9c5c-f8160d8fa549",
   "metadata": {},
   "outputs": [],
   "source": []
  }
 ],
 "metadata": {
  "kernelspec": {
   "display_name": "Python 3 (ipykernel)",
   "language": "python",
   "name": "python3"
  },
  "language_info": {
   "codemirror_mode": {
    "name": "ipython",
    "version": 3
   },
   "file_extension": ".py",
   "mimetype": "text/x-python",
   "name": "python",
   "nbconvert_exporter": "python",
   "pygments_lexer": "ipython3",
   "version": "3.11.7"
  }
 },
 "nbformat": 4,
 "nbformat_minor": 5
}
