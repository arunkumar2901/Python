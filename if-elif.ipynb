{
 "cells": [
  {
   "cell_type": "code",
   "execution_count": null,
   "id": "cff0d0e8-0976-4056-b220-6c6ef6d9fc18",
   "metadata": {},
   "outputs": [],
   "source": [
    "#Question:\n",
    "#age<18--->children\n",
    "#age<35--->adult\n",
    "#age<59--->citizen\n",
    "#age>59--->senior citizen"
   ]
  },
  {
   "cell_type": "code",
   "execution_count": 8,
   "id": "1aef4951-e70d-4cc1-8be7-c1986bdb0185",
   "metadata": {},
   "outputs": [
    {
     "name": "stdin",
     "output_type": "stream",
     "text": [
      "Enter the age:  34\n"
     ]
    },
    {
     "name": "stdout",
     "output_type": "stream",
     "text": [
      "Adult\n"
     ]
    }
   ],
   "source": [
    "age=int(input(\"Enter the age: \"))\n",
    "if(age<18):\n",
    "    print(\"Children\")\n",
    "elif(age<35):\n",
    "    print(\"Adult\")\n",
    "elif(age<59):\n",
    "    print(\"Citizen\")\n",
    "elif(age>59):\n",
    "    print(\"Senior CItizen\")"
   ]
  },
  {
   "cell_type": "code",
   "execution_count": null,
   "id": "9bdc5da7-c8b1-49b0-85ae-9148bb993d12",
   "metadata": {},
   "outputs": [],
   "source": []
  }
 ],
 "metadata": {
  "kernelspec": {
   "display_name": "Python 3 (ipykernel)",
   "language": "python",
   "name": "python3"
  },
  "language_info": {
   "codemirror_mode": {
    "name": "ipython",
    "version": 3
   },
   "file_extension": ".py",
   "mimetype": "text/x-python",
   "name": "python",
   "nbconvert_exporter": "python",
   "pygments_lexer": "ipython3",
   "version": "3.11.7"
  }
 },
 "nbformat": 4,
 "nbformat_minor": 5
}
