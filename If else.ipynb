{
 "cells": [
  {
   "cell_type": "code",
   "execution_count": null,
   "id": "879ca9d0-903e-4e9b-b0c4-0331f7874ae5",
   "metadata": {},
   "outputs": [],
   "source": [
    "age=int(input(\"Enter the Age: \"))\n",
    "if(age>=18):\n",
    "    print(\"Eligibe for Vote\")\n",
    "else:\n",
    "    print(\"Not eligible for Vote\")"
   ]
  },
  {
   "cell_type": "code",
   "execution_count": 1,
   "id": "de06e6f2-d0b4-468f-af8a-105b9ec9a764",
   "metadata": {},
   "outputs": [],
   "source": [
    "#Find the number given is odd or even"
   ]
  },
  {
   "cell_type": "code",
   "execution_count": 9,
   "id": "d8a73efa-8aa6-474e-8632-3bf4b49a2a09",
   "metadata": {},
   "outputs": [
    {
     "name": "stdin",
     "output_type": "stream",
     "text": [
      "Enter the given number 25\n"
     ]
    },
    {
     "name": "stdout",
     "output_type": "stream",
     "text": [
      "Odd number\n"
     ]
    }
   ],
   "source": [
    "num=int(input(\"Enter the given number\"))\n",
    "if((num%2)==0):\n",
    "    print(\"Even number\")\n",
    "else:\n",
    "    print(\"Odd number\")\n",
    "        "
   ]
  },
  {
   "cell_type": "code",
   "execution_count": 10,
   "id": "8686e077-2a95-426c-a479-41e05d8e04f7",
   "metadata": {},
   "outputs": [],
   "source": [
    "#range"
   ]
  },
  {
   "cell_type": "code",
   "execution_count": 13,
   "id": "85a85c97-bccb-403a-a565-1fb9687060fa",
   "metadata": {},
   "outputs": [
    {
     "data": {
      "text/plain": [
       "range(0, 10)"
      ]
     },
     "execution_count": 13,
     "metadata": {},
     "output_type": "execute_result"
    }
   ],
   "source": [
    "range(0,10)"
   ]
  },
  {
   "cell_type": "code",
   "execution_count": 20,
   "id": "1225fd55-8d76-4a80-ae5d-6a0810619a34",
   "metadata": {},
   "outputs": [
    {
     "name": "stdin",
     "output_type": "stream",
     "text": [
      "Enter the given number 2\n"
     ]
    },
    {
     "name": "stdout",
     "output_type": "stream",
     "text": [
      "Invalid Input\n"
     ]
    }
   ],
   "source": [
    "num=int(input(\"Enter the given number\"))\n",
    "if (num==(0<10)):\n",
    "    print(\"Valid Input\")\n",
    "else:\n",
    "    print(\"Invalid Input\")"
   ]
  },
  {
   "cell_type": "code",
   "execution_count": null,
   "id": "fcf9403c-8cd1-4a61-85a6-58452fd6a0ce",
   "metadata": {},
   "outputs": [],
   "source": []
  }
 ],
 "metadata": {
  "kernelspec": {
   "display_name": "Python 3 (ipykernel)",
   "language": "python",
   "name": "python3"
  },
  "language_info": {
   "codemirror_mode": {
    "name": "ipython",
    "version": 3
   },
   "file_extension": ".py",
   "mimetype": "text/x-python",
   "name": "python",
   "nbconvert_exporter": "python",
   "pygments_lexer": "ipython3",
   "version": "3.11.7"
  }
 },
 "nbformat": 4,
 "nbformat_minor": 5
}
