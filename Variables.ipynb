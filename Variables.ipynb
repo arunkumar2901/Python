{
 "cells": [
  {
   "cell_type": "code",
   "execution_count": 4,
   "id": "e293b3a6-a90f-4695-9ae8-e7adc9898b41",
   "metadata": {},
   "outputs": [
    {
     "name": "stdout",
     "output_type": "stream",
     "text": [
      "The Additon of two numbers\n",
      "The Number 1: 10\n",
      "The Number 2: 20\n",
      "The Answer = 30\n"
     ]
    }
   ],
   "source": [
    "print(\"The Additon of two numbers\")\n",
    "num1=10\n",
    "print(\"The Number 1:\", num1)\n",
    "num2=20\n",
    "print(\"The Number 2:\", num2)\n",
    "add=num1+num2\n",
    "print(\"The Answer =\", add)"
   ]
  },
  {
   "cell_type": "code",
   "execution_count": null,
   "id": "cb028bef-4388-4d66-8f5b-3eb562905e51",
   "metadata": {},
   "outputs": [],
   "source": []
  }
 ],
 "metadata": {
  "kernelspec": {
   "display_name": "Python 3 (ipykernel)",
   "language": "python",
   "name": "python3"
  },
  "language_info": {
   "codemirror_mode": {
    "name": "ipython",
    "version": 3
   },
   "file_extension": ".py",
   "mimetype": "text/x-python",
   "name": "python",
   "nbconvert_exporter": "python",
   "pygments_lexer": "ipython3",
   "version": "3.11.7"
  }
 },
 "nbformat": 4,
 "nbformat_minor": 5
}
