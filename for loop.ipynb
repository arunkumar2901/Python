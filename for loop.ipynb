{
 "cells": [
  {
   "cell_type": "code",
   "execution_count": null,
   "id": "13890e6f-8a0e-4599-8a83-5038af3dbe5a",
   "metadata": {},
   "outputs": [],
   "source": [
    "#for loop"
   ]
  },
  {
   "cell_type": "code",
   "execution_count": 2,
   "id": "3de9a0b0-e0a8-4efd-bb26-545d0f102d9f",
   "metadata": {},
   "outputs": [],
   "source": [
    "lists=[45,25,87,65,32,24,25,16,18]"
   ]
  },
  {
   "cell_type": "code",
   "execution_count": 3,
   "id": "bc76440d-db8d-4d18-bf65-71b1f1918c54",
   "metadata": {},
   "outputs": [
    {
     "name": "stdout",
     "output_type": "stream",
     "text": [
      "45\n",
      "25\n",
      "87\n",
      "65\n",
      "32\n",
      "24\n",
      "25\n",
      "16\n",
      "18\n"
     ]
    }
   ],
   "source": [
    "for temp in lists:\n",
    "    print(temp)"
   ]
  },
  {
   "cell_type": "code",
   "execution_count": 4,
   "id": "bfce0743-ee36-4aa9-afa0-fca21e951abf",
   "metadata": {},
   "outputs": [
    {
     "name": "stdout",
     "output_type": "stream",
     "text": [
      "citizen\n",
      "adult\n",
      "senior citizen\n",
      "senior citizen\n",
      "adult\n",
      "adult\n",
      "adult\n",
      "children\n",
      "adult\n"
     ]
    }
   ],
   "source": [
    "for age in lists:\n",
    "    if (age<18):\n",
    "        print(\"children\")\n",
    "    elif(age<35):\n",
    "        print(\"adult\")\n",
    "    elif(age<59):\n",
    "        print(\"citizen\")\n",
    "    elif(age>59):\n",
    "        print(\"senior citizen\")"
   ]
  },
  {
   "cell_type": "code",
   "execution_count": 5,
   "id": "a330a050-42e9-4573-afec-3c7072241d0d",
   "metadata": {},
   "outputs": [
    {
     "name": "stdout",
     "output_type": "stream",
     "text": [
      "Odd Number\n",
      "Odd Number\n",
      "Odd Number\n",
      "Odd Number\n",
      "Even Number\n",
      "Even Number\n",
      "Odd Number\n",
      "Even Number\n",
      "Even Number\n"
     ]
    }
   ],
   "source": [
    "for num in lists:\n",
    "    if((num%2)==0):\n",
    "        print(\"Even Number\")\n",
    "    else:\n",
    "        print(\"Odd Number\")"
   ]
  },
  {
   "cell_type": "code",
   "execution_count": null,
   "id": "c3dbf67f-7cf1-49fa-a02e-928f3f764936",
   "metadata": {},
   "outputs": [],
   "source": [
    "#range"
   ]
  },
  {
   "cell_type": "code",
   "execution_count": 6,
   "id": "f3531c87-08f9-41a3-8c21-ded88c1362dd",
   "metadata": {},
   "outputs": [
    {
     "data": {
      "text/plain": [
       "range(0, 10)"
      ]
     },
     "execution_count": 6,
     "metadata": {},
     "output_type": "execute_result"
    }
   ],
   "source": [
    "range(0,10)"
   ]
  },
  {
   "cell_type": "code",
   "execution_count": 11,
   "id": "592c0ecb-32f8-4b90-aae1-34ad692725bc",
   "metadata": {},
   "outputs": [
    {
     "name": "stdout",
     "output_type": "stream",
     "text": [
      "Even Number\n",
      "Odd Number\n",
      "Even Number\n",
      "Odd Number\n",
      "Even Number\n",
      "Odd Number\n",
      "Even Number\n",
      "Odd Number\n",
      "Even Number\n",
      "Odd Number\n"
     ]
    }
   ],
   "source": [
    "for num in range(0,10):\n",
    "    if ((num%2)==0):\n",
    "        print(\"Even Number\")\n",
    "    else:\n",
    "        print(\"Odd Number\")"
   ]
  },
  {
   "cell_type": "code",
   "execution_count": null,
   "id": "a2912fe7-c772-4e5c-a58a-8f3c14c47799",
   "metadata": {},
   "outputs": [],
   "source": []
  }
 ],
 "metadata": {
  "kernelspec": {
   "display_name": "Python 3 (ipykernel)",
   "language": "python",
   "name": "python3"
  },
  "language_info": {
   "codemirror_mode": {
    "name": "ipython",
    "version": 3
   },
   "file_extension": ".py",
   "mimetype": "text/x-python",
   "name": "python",
   "nbconvert_exporter": "python",
   "pygments_lexer": "ipython3",
   "version": "3.11.7"
  }
 },
 "nbformat": 4,
 "nbformat_minor": 5
}
